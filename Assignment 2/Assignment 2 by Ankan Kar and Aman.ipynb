{
 "cells": [
  {
   "cell_type": "markdown",
   "metadata": {},
   "source": [
    "# K Means Clustering"
   ]
  },
  {
   "cell_type": "markdown",
   "metadata": {},
   "source": [
    "## Submission by Ankan Kar (MCS202303) and Aman (MDS202305)"
   ]
  },
  {
   "cell_type": "markdown",
   "metadata": {},
   "source": [
    "### Importing Libraries"
   ]
  },
  {
   "cell_type": "code",
   "execution_count": 1,
   "metadata": {},
   "outputs": [],
   "source": [
    "import numpy as np\n",
    "import pandas as pd\n",
    "import time\n",
    "import psutil\n",
    "import matplotlib.pyplot as plt\n",
    "from IPython.display import display\n",
    "import sys\n",
    "import matplotlib.pyplot as plt\n",
    "from sklearn import metrics\n",
    "from sklearn.cluster import KMeans\n",
    "from sklearn.metrics import pairwise_distances\n",
    "from IPython.display import display"
   ]
  },
  {
   "cell_type": "markdown",
   "metadata": {},
   "source": [
    "### Functions to read the file"
   ]
  },
  {
   "cell_type": "code",
   "execution_count": 2,
   "metadata": {},
   "outputs": [],
   "source": [
    "def read_docword_matrix(file_path):\n",
    "    with open(file_path, 'r') as file:\n",
    "        for _ in range(3):\n",
    "            next(file)\n",
    "\n",
    "        data = [list(map(int, line.strip().split())) for line in file]\n",
    "\n",
    "    max_doc_id = max(row[0] for row in data)\n",
    "    max_word_id = max(row[1] for row in data)\n",
    "    doc_term_matrix = np.zeros((max_doc_id, max_word_id), dtype=int)\n",
    "\n",
    "    for doc_id, word_id, count in data:\n",
    "        doc_term_matrix[doc_id - 1, word_id - 1] = 1\n",
    "\n",
    "    return doc_term_matrix\n",
    "\n",
    "def calculate_sparseness(matrix):\n",
    "    total_elements = matrix.size\n",
    "    non_zero_elements = np.count_nonzero(matrix)\n",
    "    sparseness = 1.0 - (non_zero_elements / total_elements)\n",
    "    return sparseness"
   ]
  },
  {
   "cell_type": "markdown",
   "metadata": {},
   "source": [
    "### Jaccard Function"
   ]
  },
  {
   "cell_type": "code",
   "execution_count": 3,
   "metadata": {},
   "outputs": [],
   "source": [
    "def jaccard_distance(a, b):\n",
    "    intersection = np.sum(np.minimum(a, b))\n",
    "    union = np.sum(np.maximum(a, b))\n",
    "    return 1-(intersection / union)"
   ]
  },
  {
   "cell_type": "code",
   "execution_count": 4,
   "metadata": {},
   "outputs": [],
   "source": [
    "def plot(data, centroids):\n",
    "    plt.scatter(data[:, 0], data[:, 1], marker='.',\n",
    "                color='gray', label='data points')\n",
    "    plt.scatter(centroids[:-1, 0], centroids[:-1, 1],\n",
    "                color='black', label='previously selected centroids')\n",
    "    plt.scatter(centroids[-1, 0], centroids[-1, 1],\n",
    "                color='red', label='next centroid')\n",
    "    plt.title('Select % d th centroid' % (centroids.shape[0]))\n",
    "\n",
    "    plt.legend()\n",
    "    plt.xlim(-5, 12)\n",
    "    plt.ylim(-10, 15)\n",
    "    plt.show()"
   ]
  },
  {
   "cell_type": "markdown",
   "metadata": {},
   "source": [
    "### Function for KMeans Clustering"
   ]
  },
  {
   "cell_type": "code",
   "execution_count": 5,
   "metadata": {},
   "outputs": [],
   "source": [
    "def initialize_centroids_1(data, k):\n",
    "    indices = np.random.choice(data.shape[0], k, replace=False)\n",
    "    return data[indices]\n",
    "\n",
    "\n",
    "\n",
    "def initialize_centroids(data, k):\n",
    "    n_samples, n_features = data.shape\n",
    "    centroids = np.empty((k, n_features))\n",
    "\n",
    "    # Choose the first centroid randomly from the data points\n",
    "    centroid_indices = [np.random.randint(n_samples)]\n",
    "    centroids[0] = data[centroid_indices]\n",
    "\n",
    "    # Calculate the pairwise Jaccard distances between the data points and the selected centroids\n",
    "    distances = pairwise_distances(data, centroids[:1], metric=jaccard_distance).flatten()\n",
    "\n",
    "    for i in range(1, k):\n",
    "        # Select the next centroid with probability proportional to the squared distance\n",
    "        prob = distances ** 2\n",
    "        prob /= prob.sum()\n",
    "        next_centroid_index = np.random.choice(n_samples, p=prob)\n",
    "        centroids[i] = data[next_centroid_index]\n",
    "\n",
    "        # Update the distances array with the minimum Jaccard distances to the new centroid\n",
    "        new_distances = pairwise_distances(data, centroids[i:i+1], metric=jaccard_distance).flatten()\n",
    "        distances = np.minimum(distances, new_distances)\n",
    "\n",
    "    return centroids"
   ]
  },
  {
   "cell_type": "code",
   "execution_count": 6,
   "metadata": {},
   "outputs": [],
   "source": [
    "def assign_clusters(data, centroids):\n",
    "    distances = pairwise_distances(data, centroids, metric=jaccard_distance)\n",
    "    return np.argmin(distances, axis=1)"
   ]
  },
  {
   "cell_type": "code",
   "execution_count": 7,
   "metadata": {},
   "outputs": [],
   "source": [
    "def update_centroids(data, clusters, k, centroids=None):\n",
    "    if centroids is None:\n",
    "        centroids = initialize_centroids_1(data, k)\n",
    "    new_centroids = np.zeros((k, data.shape[1]))\n",
    "    for i in range(k):\n",
    "        cluster_data = data[clusters == i]\n",
    "        if len(cluster_data) > 0:\n",
    "            new_centroids[i] = np.mean(cluster_data, axis=0)\n",
    "        else:\n",
    "            # If a cluster has no data points, use the corresponding centroid from K-means++\n",
    "            new_centroids[i] = centroids[i]\n",
    "    return new_centroids"
   ]
  },
  {
   "cell_type": "code",
   "execution_count": 8,
   "metadata": {},
   "outputs": [],
   "source": [
    "def calculate_wcss(data, centroids, clusters):\n",
    "    wcss = 0\n",
    "    for i, centroid in enumerate(centroids):\n",
    "        cluster_data = data[clusters == i]\n",
    "        if len(cluster_data) > 0:\n",
    "            wcss += np.sum(pairwise_distances(cluster_data, [centroid], metric=jaccard_distance)**2)\n",
    "    return wcss"
   ]
  },
  {
   "cell_type": "code",
   "execution_count": 9,
   "metadata": {},
   "outputs": [],
   "source": [
    "def mini_batch_kmeans(data, k, batch_size, max_iter, tol=1e-4):\n",
    "    centroids = initialize_centroids(data, k)\n",
    "    iteration = 0\n",
    "    wcss_values = []\n",
    "\n",
    "    while iteration < max_iter:\n",
    "        batch_indices = np.random.choice(data.shape[0], batch_size, replace=False)\n",
    "        batch_data = data[batch_indices]\n",
    "        clusters = assign_clusters(batch_data, centroids)\n",
    "        new_centroids = update_centroids(batch_data, clusters, k)\n",
    "        wcss = calculate_wcss(batch_data, new_centroids, clusters)\n",
    "        wcss_values.append(wcss)\n",
    "        \n",
    "        if np.sum(np.abs(new_centroids - centroids)) < tol:\n",
    "            break\n",
    "        \n",
    "        centroids = new_centroids\n",
    "        iteration += 1\n",
    "\n",
    "    return wcss_values"
   ]
  },
  {
   "cell_type": "code",
   "execution_count": 10,
   "metadata": {},
   "outputs": [],
   "source": [
    "def memory_usage():\n",
    "    process = psutil.Process()\n",
    "    return process.memory_info().rss / 1024 "
   ]
  },
  {
   "cell_type": "markdown",
   "metadata": {},
   "source": [
    "## Getting optimal K"
   ]
  },
  {
   "cell_type": "markdown",
   "metadata": {},
   "source": [
    "### KOS Dataset"
   ]
  },
  {
   "cell_type": "code",
   "execution_count": 20,
   "metadata": {},
   "outputs": [
    {
     "name": "stdout",
     "output_type": "stream",
     "text": [
      "Number of Documents in kos dataset:  3430\n",
      "Sparseness in kos dataset: 0.9850909210649632\n"
     ]
    }
   ],
   "source": [
    "print(\"Number of Documents in kos dataset: \",len(read_docword_matrix('docword.kos.txt')))\n",
    "print(\"Sparseness in kos dataset:\", calculate_sparseness(read_docword_matrix('docword.kos.txt')))"
   ]
  },
  {
   "cell_type": "code",
   "execution_count": 12,
   "metadata": {},
   "outputs": [
    {
     "data": {
      "text/html": [
       "<style type=\"text/css\">\n",
       "#T_4c734_row0_col0, #T_4c734_row0_col1, #T_4c734_row1_col0, #T_4c734_row1_col1, #T_4c734_row2_col0, #T_4c734_row2_col1, #T_4c734_row3_col0, #T_4c734_row3_col1, #T_4c734_row4_col0, #T_4c734_row4_col1, #T_4c734_row5_col0, #T_4c734_row5_col1, #T_4c734_row6_col0, #T_4c734_row6_col1, #T_4c734_row7_col0, #T_4c734_row7_col1, #T_4c734_row8_col0, #T_4c734_row8_col1, #T_4c734_row9_col0, #T_4c734_row9_col1, #T_4c734_row10_col0, #T_4c734_row10_col1, #T_4c734_row11_col0, #T_4c734_row11_col1, #T_4c734_row12_col0, #T_4c734_row12_col1, #T_4c734_row13_col0, #T_4c734_row13_col1, #T_4c734_row14_col0, #T_4c734_row14_col1 {\n",
       "  text-align: center;\n",
       "}\n",
       "</style>\n",
       "<table id=\"T_4c734\">\n",
       "  <thead>\n",
       "    <tr>\n",
       "      <th class=\"blank level0\" >&nbsp;</th>\n",
       "      <th id=\"T_4c734_level0_col0\" class=\"col_heading level0 col0\" >Execution Time (s)</th>\n",
       "      <th id=\"T_4c734_level0_col1\" class=\"col_heading level0 col1\" >Memory Usage (KB)</th>\n",
       "    </tr>\n",
       "    <tr>\n",
       "      <th class=\"index_name level0\" >K</th>\n",
       "      <th class=\"blank col0\" >&nbsp;</th>\n",
       "      <th class=\"blank col1\" >&nbsp;</th>\n",
       "    </tr>\n",
       "  </thead>\n",
       "  <tbody>\n",
       "    <tr>\n",
       "      <th id=\"T_4c734_level0_row0\" class=\"row_heading level0 row0\" >1</th>\n",
       "      <td id=\"T_4c734_row0_col0\" class=\"data row0 col0\" >23.610894</td>\n",
       "      <td id=\"T_4c734_row0_col1\" class=\"data row0 col1\" >172.000000</td>\n",
       "    </tr>\n",
       "    <tr>\n",
       "      <th id=\"T_4c734_level0_row1\" class=\"row_heading level0 row1\" >2</th>\n",
       "      <td id=\"T_4c734_row1_col0\" class=\"data row1 col0\" >31.405819</td>\n",
       "      <td id=\"T_4c734_row1_col1\" class=\"data row1 col1\" >16.000000</td>\n",
       "    </tr>\n",
       "    <tr>\n",
       "      <th id=\"T_4c734_level0_row2\" class=\"row_heading level0 row2\" >3</th>\n",
       "      <td id=\"T_4c734_row2_col0\" class=\"data row2 col0\" >30.437374</td>\n",
       "      <td id=\"T_4c734_row2_col1\" class=\"data row2 col1\" >12.000000</td>\n",
       "    </tr>\n",
       "    <tr>\n",
       "      <th id=\"T_4c734_level0_row3\" class=\"row_heading level0 row3\" >4</th>\n",
       "      <td id=\"T_4c734_row3_col0\" class=\"data row3 col0\" >19.257064</td>\n",
       "      <td id=\"T_4c734_row3_col1\" class=\"data row3 col1\" >972.000000</td>\n",
       "    </tr>\n",
       "    <tr>\n",
       "      <th id=\"T_4c734_level0_row4\" class=\"row_heading level0 row4\" >5</th>\n",
       "      <td id=\"T_4c734_row4_col0\" class=\"data row4 col0\" >18.891693</td>\n",
       "      <td id=\"T_4c734_row4_col1\" class=\"data row4 col1\" >1580.000000</td>\n",
       "    </tr>\n",
       "    <tr>\n",
       "      <th id=\"T_4c734_level0_row5\" class=\"row_heading level0 row5\" >6</th>\n",
       "      <td id=\"T_4c734_row5_col0\" class=\"data row5 col0\" >27.843336</td>\n",
       "      <td id=\"T_4c734_row5_col1\" class=\"data row5 col1\" >304.000000</td>\n",
       "    </tr>\n",
       "    <tr>\n",
       "      <th id=\"T_4c734_level0_row6\" class=\"row_heading level0 row6\" >7</th>\n",
       "      <td id=\"T_4c734_row6_col0\" class=\"data row6 col0\" >21.520995</td>\n",
       "      <td id=\"T_4c734_row6_col1\" class=\"data row6 col1\" >2004.000000</td>\n",
       "    </tr>\n",
       "    <tr>\n",
       "      <th id=\"T_4c734_level0_row7\" class=\"row_heading level0 row7\" >8</th>\n",
       "      <td id=\"T_4c734_row7_col0\" class=\"data row7 col0\" >30.024552</td>\n",
       "      <td id=\"T_4c734_row7_col1\" class=\"data row7 col1\" >12.000000</td>\n",
       "    </tr>\n",
       "    <tr>\n",
       "      <th id=\"T_4c734_level0_row8\" class=\"row_heading level0 row8\" >9</th>\n",
       "      <td id=\"T_4c734_row8_col0\" class=\"data row8 col0\" >24.475059</td>\n",
       "      <td id=\"T_4c734_row8_col1\" class=\"data row8 col1\" >2260.000000</td>\n",
       "    </tr>\n",
       "    <tr>\n",
       "      <th id=\"T_4c734_level0_row9\" class=\"row_heading level0 row9\" >10</th>\n",
       "      <td id=\"T_4c734_row9_col0\" class=\"data row9 col0\" >50.654322</td>\n",
       "      <td id=\"T_4c734_row9_col1\" class=\"data row9 col1\" >0.000000</td>\n",
       "    </tr>\n",
       "    <tr>\n",
       "      <th id=\"T_4c734_level0_row10\" class=\"row_heading level0 row10\" >11</th>\n",
       "      <td id=\"T_4c734_row10_col0\" class=\"data row10 col0\" >51.429723</td>\n",
       "      <td id=\"T_4c734_row10_col1\" class=\"data row10 col1\" >1544.000000</td>\n",
       "    </tr>\n",
       "    <tr>\n",
       "      <th id=\"T_4c734_level0_row11\" class=\"row_heading level0 row11\" >12</th>\n",
       "      <td id=\"T_4c734_row11_col0\" class=\"data row11 col0\" >58.002898</td>\n",
       "      <td id=\"T_4c734_row11_col1\" class=\"data row11 col1\" >740.000000</td>\n",
       "    </tr>\n",
       "    <tr>\n",
       "      <th id=\"T_4c734_level0_row12\" class=\"row_heading level0 row12\" >13</th>\n",
       "      <td id=\"T_4c734_row12_col0\" class=\"data row12 col0\" >78.509362</td>\n",
       "      <td id=\"T_4c734_row12_col1\" class=\"data row12 col1\" >1516.000000</td>\n",
       "    </tr>\n",
       "    <tr>\n",
       "      <th id=\"T_4c734_level0_row13\" class=\"row_heading level0 row13\" >14</th>\n",
       "      <td id=\"T_4c734_row13_col0\" class=\"data row13 col0\" >86.357108</td>\n",
       "      <td id=\"T_4c734_row13_col1\" class=\"data row13 col1\" >2000.000000</td>\n",
       "    </tr>\n",
       "    <tr>\n",
       "      <th id=\"T_4c734_level0_row14\" class=\"row_heading level0 row14\" >15</th>\n",
       "      <td id=\"T_4c734_row14_col0\" class=\"data row14 col0\" >110.711366</td>\n",
       "      <td id=\"T_4c734_row14_col1\" class=\"data row14 col1\" >0.000000</td>\n",
       "    </tr>\n",
       "  </tbody>\n",
       "</table>\n"
      ],
      "text/plain": [
       "<pandas.io.formats.style.Styler at 0x1b5e2a3b880>"
      ]
     },
     "metadata": {},
     "output_type": "display_data"
    },
    {
     "name": "stdout",
     "output_type": "stream",
     "text": [
      "Elbow point: 8\n"
     ]
    },
    {
     "data": {
      "image/png": "[encoded data removed]",
      "text/plain": [
       "<Figure size 640x480 with 1 Axes>"
      ]
     },
     "metadata": {},
     "output_type": "display_data"
    }
   ],
   "source": [
    "doc_term_matrix = read_docword_matrix('docword.kos.txt')\n",
    "\n",
    "k_values = range(1, 16)\n",
    "\n",
    "results = []\n",
    "\n",
    "for k in k_values:\n",
    "    start_time = time.time()\n",
    "    start_memory = memory_usage()\n",
    "    wcss = mini_batch_kmeans(doc_term_matrix, k, batch_size=200, max_iter=400, tol=1e-3)\n",
    "    end_time = time.time()\n",
    "    end_memory = memory_usage()\n",
    "    \n",
    "    execution_time = end_time - start_time\n",
    "    memory_usage_diff = abs(end_memory - start_memory)\n",
    "    \n",
    "    results.append((k, execution_time, memory_usage_diff, wcss[-1]))\n",
    "\n",
    "df = pd.DataFrame(results, columns=['K', 'Execution Time (s)', 'Memory Usage (KB)', 'WCSS'])\n",
    "\n",
    "df.set_index('K', inplace=True)\n",
    "\n",
    "df_subset = df.iloc[:, :2]\n",
    "\n",
    "df_styled = df_subset.style.set_properties(**{'text-align': 'center'})\n",
    "\n",
    "display(df_styled)\n",
    "\n",
    "# Find the elbow point\n",
    "diffs = np.diff(df['WCSS'])\n",
    "diffs_ratio = diffs[1:] / diffs[:-1]\n",
    "elbow_index = np.argmax(diffs_ratio) + 1\n",
    "elbow_point = df.index[elbow_index]\n",
    "\n",
    "# Display the results\n",
    "print(f\"Elbow point: {elbow_point}\")\n",
    "\n",
    "# Plot the WCSS plot\n",
    "plt.plot(df.index, df['WCSS'], marker='o')\n",
    "plt.title('Elbow Plot')\n",
    "plt.xlabel('Number of Clusters (k)')\n",
    "plt.ylabel('WCSS')\n",
    "plt.axvline(x=elbow_point, color='r', linestyle='--', label='Elbow Point')\n",
    "plt.legend()\n",
    "plt.show()"
   ]
  },
  {
   "cell_type": "code",
   "execution_count": 24,
   "metadata": {},
   "outputs": [
    {
     "name": "stdout",
     "output_type": "stream",
     "text": [
      "The optimal value of k is  8\n"
     ]
    }
   ],
   "source": [
    "print(\"The optimal value of k is \", elbow_point)"
   ]
  },
  {
   "cell_type": "markdown",
   "metadata": {},
   "source": [
    "### NIPS Dataset"
   ]
  },
  {
   "cell_type": "code",
   "execution_count": 19,
   "metadata": {},
   "outputs": [
    {
     "name": "stdout",
     "output_type": "stream",
     "text": [
      "Number of Documents in nips dataset:  1500\n",
      "Sparseness in nips dataset: 0.9599368709235848\n"
     ]
    }
   ],
   "source": [
    "print(\"Number of Documents in nips dataset: \",len(read_docword_matrix('docword.nips.txt')))\n",
    "print(\"Sparseness in nips dataset:\", calculate_sparseness(read_docword_matrix('docword.nips.txt')))"
   ]
  },
  {
   "cell_type": "code",
   "execution_count": 14,
   "metadata": {},
   "outputs": [
    {
     "data": {
      "text/html": [
       "<style type=\"text/css\">\n",
       "#T_d1ad3_row0_col0, #T_d1ad3_row0_col1, #T_d1ad3_row1_col0, #T_d1ad3_row1_col1, #T_d1ad3_row2_col0, #T_d1ad3_row2_col1, #T_d1ad3_row3_col0, #T_d1ad3_row3_col1, #T_d1ad3_row4_col0, #T_d1ad3_row4_col1, #T_d1ad3_row5_col0, #T_d1ad3_row5_col1, #T_d1ad3_row6_col0, #T_d1ad3_row6_col1, #T_d1ad3_row7_col0, #T_d1ad3_row7_col1, #T_d1ad3_row8_col0, #T_d1ad3_row8_col1, #T_d1ad3_row9_col0, #T_d1ad3_row9_col1, #T_d1ad3_row10_col0, #T_d1ad3_row10_col1, #T_d1ad3_row11_col0, #T_d1ad3_row11_col1, #T_d1ad3_row12_col0, #T_d1ad3_row12_col1, #T_d1ad3_row13_col0, #T_d1ad3_row13_col1, #T_d1ad3_row14_col0, #T_d1ad3_row14_col1 {\n",
       "  text-align: center;\n",
       "}\n",
       "</style>\n",
       "<table id=\"T_d1ad3\">\n",
       "  <thead>\n",
       "    <tr>\n",
       "      <th class=\"blank level0\" >&nbsp;</th>\n",
       "      <th id=\"T_d1ad3_level0_col0\" class=\"col_heading level0 col0\" >Execution Time (s)</th>\n",
       "      <th id=\"T_d1ad3_level0_col1\" class=\"col_heading level0 col1\" >Memory Usage (KB)</th>\n",
       "    </tr>\n",
       "    <tr>\n",
       "      <th class=\"index_name level0\" >K</th>\n",
       "      <th class=\"blank col0\" >&nbsp;</th>\n",
       "      <th class=\"blank col1\" >&nbsp;</th>\n",
       "    </tr>\n",
       "  </thead>\n",
       "  <tbody>\n",
       "    <tr>\n",
       "      <th id=\"T_d1ad3_level0_row0\" class=\"row_heading level0 row0\" >1</th>\n",
       "      <td id=\"T_d1ad3_row0_col0\" class=\"data row0 col0\" >105.687033</td>\n",
       "      <td id=\"T_d1ad3_row0_col1\" class=\"data row0 col1\" >1936.000000</td>\n",
       "    </tr>\n",
       "    <tr>\n",
       "      <th id=\"T_d1ad3_level0_row1\" class=\"row_heading level0 row1\" >2</th>\n",
       "      <td id=\"T_d1ad3_row1_col0\" class=\"data row1 col0\" >98.983267</td>\n",
       "      <td id=\"T_d1ad3_row1_col1\" class=\"data row1 col1\" >8.000000</td>\n",
       "    </tr>\n",
       "    <tr>\n",
       "      <th id=\"T_d1ad3_level0_row2\" class=\"row_heading level0 row2\" >3</th>\n",
       "      <td id=\"T_d1ad3_row2_col0\" class=\"data row2 col0\" >112.054239</td>\n",
       "      <td id=\"T_d1ad3_row2_col1\" class=\"data row2 col1\" >1460.000000</td>\n",
       "    </tr>\n",
       "    <tr>\n",
       "      <th id=\"T_d1ad3_level0_row3\" class=\"row_heading level0 row3\" >4</th>\n",
       "      <td id=\"T_d1ad3_row3_col0\" class=\"data row3 col0\" >128.698703</td>\n",
       "      <td id=\"T_d1ad3_row3_col1\" class=\"data row3 col1\" >15096.000000</td>\n",
       "    </tr>\n",
       "    <tr>\n",
       "      <th id=\"T_d1ad3_level0_row4\" class=\"row_heading level0 row4\" >5</th>\n",
       "      <td id=\"T_d1ad3_row4_col0\" class=\"data row4 col0\" >173.572351</td>\n",
       "      <td id=\"T_d1ad3_row4_col1\" class=\"data row4 col1\" >1996.000000</td>\n",
       "    </tr>\n",
       "    <tr>\n",
       "      <th id=\"T_d1ad3_level0_row5\" class=\"row_heading level0 row5\" >6</th>\n",
       "      <td id=\"T_d1ad3_row5_col0\" class=\"data row5 col0\" >190.030053</td>\n",
       "      <td id=\"T_d1ad3_row5_col1\" class=\"data row5 col1\" >1984.000000</td>\n",
       "    </tr>\n",
       "    <tr>\n",
       "      <th id=\"T_d1ad3_level0_row6\" class=\"row_heading level0 row6\" >7</th>\n",
       "      <td id=\"T_d1ad3_row6_col0\" class=\"data row6 col0\" >194.085378</td>\n",
       "      <td id=\"T_d1ad3_row6_col1\" class=\"data row6 col1\" >76632.000000</td>\n",
       "    </tr>\n",
       "    <tr>\n",
       "      <th id=\"T_d1ad3_level0_row7\" class=\"row_heading level0 row7\" >8</th>\n",
       "      <td id=\"T_d1ad3_row7_col0\" class=\"data row7 col0\" >201.917042</td>\n",
       "      <td id=\"T_d1ad3_row7_col1\" class=\"data row7 col1\" >4328.000000</td>\n",
       "    </tr>\n",
       "    <tr>\n",
       "      <th id=\"T_d1ad3_level0_row8\" class=\"row_heading level0 row8\" >9</th>\n",
       "      <td id=\"T_d1ad3_row8_col0\" class=\"data row8 col0\" >204.746158</td>\n",
       "      <td id=\"T_d1ad3_row8_col1\" class=\"data row8 col1\" >31248.000000</td>\n",
       "    </tr>\n",
       "    <tr>\n",
       "      <th id=\"T_d1ad3_level0_row9\" class=\"row_heading level0 row9\" >10</th>\n",
       "      <td id=\"T_d1ad3_row9_col0\" class=\"data row9 col0\" >184.887597</td>\n",
       "      <td id=\"T_d1ad3_row9_col1\" class=\"data row9 col1\" >4164.000000</td>\n",
       "    </tr>\n",
       "    <tr>\n",
       "      <th id=\"T_d1ad3_level0_row10\" class=\"row_heading level0 row10\" >11</th>\n",
       "      <td id=\"T_d1ad3_row10_col0\" class=\"data row10 col0\" >199.306532</td>\n",
       "      <td id=\"T_d1ad3_row10_col1\" class=\"data row10 col1\" >3152.000000</td>\n",
       "    </tr>\n",
       "    <tr>\n",
       "      <th id=\"T_d1ad3_level0_row11\" class=\"row_heading level0 row11\" >12</th>\n",
       "      <td id=\"T_d1ad3_row11_col0\" class=\"data row11 col0\" >212.542448</td>\n",
       "      <td id=\"T_d1ad3_row11_col1\" class=\"data row11 col1\" >100.000000</td>\n",
       "    </tr>\n",
       "    <tr>\n",
       "      <th id=\"T_d1ad3_level0_row12\" class=\"row_heading level0 row12\" >13</th>\n",
       "      <td id=\"T_d1ad3_row12_col0\" class=\"data row12 col0\" >224.486580</td>\n",
       "      <td id=\"T_d1ad3_row12_col1\" class=\"data row12 col1\" >4.000000</td>\n",
       "    </tr>\n",
       "    <tr>\n",
       "      <th id=\"T_d1ad3_level0_row13\" class=\"row_heading level0 row13\" >14</th>\n",
       "      <td id=\"T_d1ad3_row13_col0\" class=\"data row13 col0\" >129.795907</td>\n",
       "      <td id=\"T_d1ad3_row13_col1\" class=\"data row13 col1\" >840.000000</td>\n",
       "    </tr>\n",
       "    <tr>\n",
       "      <th id=\"T_d1ad3_level0_row14\" class=\"row_heading level0 row14\" >15</th>\n",
       "      <td id=\"T_d1ad3_row14_col0\" class=\"data row14 col0\" >101.223513</td>\n",
       "      <td id=\"T_d1ad3_row14_col1\" class=\"data row14 col1\" >196.000000</td>\n",
       "    </tr>\n",
       "  </tbody>\n",
       "</table>\n"
      ],
      "text/plain": [
       "<pandas.io.formats.style.Styler at 0x1b5e2b60130>"
      ]
     },
     "metadata": {},
     "output_type": "display_data"
    },
    {
     "name": "stdout",
     "output_type": "stream",
     "text": [
      "Elbow point: 6\n"
     ]
    },
    {
     "data": {
      "image/png": "[encoded data removed]",
      "text/plain": [
       "<Figure size 640x480 with 1 Axes>"
      ]
     },
     "metadata": {},
     "output_type": "display_data"
    }
   ],
   "source": [
    "doc_term_matrix = read_docword_matrix('docword.nips.txt')\n",
    "\n",
    "k_values = range(1, 16)\n",
    "\n",
    "results = []\n",
    "\n",
    "for k in k_values:\n",
    "    start_time = time.time()\n",
    "    start_memory = memory_usage()\n",
    "    wcss = mini_batch_kmeans(doc_term_matrix, k, batch_size=400, max_iter=500, tol=1e-3)\n",
    "    end_time = time.time()  \n",
    "    end_memory = memory_usage()\n",
    "    \n",
    "    execution_time = end_time - start_time\n",
    "    memory_usage_diff = abs(end_memory - start_memory)\n",
    "    \n",
    "    results.append((k, execution_time, memory_usage_diff, wcss[-1]))\n",
    "\n",
    "df = pd.DataFrame(results, columns=['K', 'Execution Time (s)', 'Memory Usage (KB)', 'WCSS'])\n",
    "\n",
    "# Set the 'K' column as the index\n",
    "df.set_index('K', inplace=True)\n",
    "\n",
    "# Select only the first two columns of the DataFrame\n",
    "df_subset = df.iloc[:, :2]\n",
    "\n",
    "df_styled = df_subset.style.set_properties(**{'text-align': 'center'})\n",
    "\n",
    "display(df_styled)\n",
    "\n",
    "# Find the elbow point\n",
    "diffs = np.diff(df['WCSS'])\n",
    "diffs_ratio = diffs[1:] / diffs[:-1]\n",
    "elbow_index = np.argmax(diffs_ratio) + 1\n",
    "elbow_point = df.index[elbow_index]\n",
    "\n",
    "# Display the results\n",
    "print(f\"Elbow point: {elbow_point}\")\n",
    "\n",
    "# Plot the WCSS plot\n",
    "plt.plot(df.index, df['WCSS'], marker='o')\n",
    "plt.title('Elbow Plot')\n",
    "plt.xlabel('Number of Clusters (k)')\n",
    "plt.ylabel('WCSS')\n",
    "plt.axvline(x=elbow_point, color='r', linestyle='--', label='Elbow Point')\n",
    "plt.legend()\n",
    "plt.show()  "
   ]
  },
  {
   "cell_type": "code",
   "execution_count": 23,
   "metadata": {},
   "outputs": [
    {
     "name": "stdout",
     "output_type": "stream",
     "text": [
      "The optimal value of k is  6\n"
     ]
    }
   ],
   "source": [
    "print(\"The optimal value of k is \", elbow_point)"
   ]
  },
  {
   "cell_type": "markdown",
   "metadata": {},
   "source": [
    "### Enron Dataset"
   ]
  },
  {
   "cell_type": "code",
   "execution_count": 18,
   "metadata": {},
   "outputs": [
    {
     "name": "stdout",
     "output_type": "stream",
     "text": [
      "Number of Documents in enron dataset:  39861\n",
      "Sparseness in enron dataset: 0.996687639072501\n"
     ]
    }
   ],
   "source": [
    "print(\"Number of Documents in enron dataset: \",len(read_docword_matrix('docword.enron.txt')))\n",
    "print(\"Sparseness in enron dataset:\", calculate_sparseness(read_docword_matrix('docword.enron.txt')))"
   ]
  },
  {
   "cell_type": "code",
   "execution_count": 16,
   "metadata": {},
   "outputs": [
    {
     "data": {
      "text/html": [
       "<style type=\"text/css\">\n",
       "#T_a3901_row0_col0, #T_a3901_row0_col1, #T_a3901_row1_col0, #T_a3901_row1_col1, #T_a3901_row2_col0, #T_a3901_row2_col1, #T_a3901_row3_col0, #T_a3901_row3_col1, #T_a3901_row4_col0, #T_a3901_row4_col1, #T_a3901_row5_col0, #T_a3901_row5_col1, #T_a3901_row6_col0, #T_a3901_row6_col1, #T_a3901_row7_col0, #T_a3901_row7_col1, #T_a3901_row8_col0, #T_a3901_row8_col1 {\n",
       "  text-align: center;\n",
       "}\n",
       "</style>\n",
       "<table id=\"T_a3901\">\n",
       "  <thead>\n",
       "    <tr>\n",
       "      <th class=\"blank level0\" >&nbsp;</th>\n",
       "      <th id=\"T_a3901_level0_col0\" class=\"col_heading level0 col0\" >Execution Time (s)</th>\n",
       "      <th id=\"T_a3901_level0_col1\" class=\"col_heading level0 col1\" >Memory Usage (KB)</th>\n",
       "    </tr>\n",
       "    <tr>\n",
       "      <th class=\"index_name level0\" >K</th>\n",
       "      <th class=\"blank col0\" >&nbsp;</th>\n",
       "      <th class=\"blank col1\" >&nbsp;</th>\n",
       "    </tr>\n",
       "  </thead>\n",
       "  <tbody>\n",
       "    <tr>\n",
       "      <th id=\"T_a3901_level0_row0\" class=\"row_heading level0 row0\" >1</th>\n",
       "      <td id=\"T_a3901_row0_col0\" class=\"data row0 col0\" >109.790984</td>\n",
       "      <td id=\"T_a3901_row0_col1\" class=\"data row0 col1\" >3282012.000000</td>\n",
       "    </tr>\n",
       "    <tr>\n",
       "      <th id=\"T_a3901_level0_row1\" class=\"row_heading level0 row1\" >2</th>\n",
       "      <td id=\"T_a3901_row1_col0\" class=\"data row1 col0\" >185.456226</td>\n",
       "      <td id=\"T_a3901_row1_col1\" class=\"data row1 col1\" >28868.000000</td>\n",
       "    </tr>\n",
       "    <tr>\n",
       "      <th id=\"T_a3901_level0_row2\" class=\"row_heading level0 row2\" >3</th>\n",
       "      <td id=\"T_a3901_row2_col0\" class=\"data row2 col0\" >213.251746</td>\n",
       "      <td id=\"T_a3901_row2_col1\" class=\"data row2 col1\" >33364.000000</td>\n",
       "    </tr>\n",
       "    <tr>\n",
       "      <th id=\"T_a3901_level0_row3\" class=\"row_heading level0 row3\" >4</th>\n",
       "      <td id=\"T_a3901_row3_col0\" class=\"data row3 col0\" >266.202597</td>\n",
       "      <td id=\"T_a3901_row3_col1\" class=\"data row3 col1\" >9160.000000</td>\n",
       "    </tr>\n",
       "    <tr>\n",
       "      <th id=\"T_a3901_level0_row4\" class=\"row_heading level0 row4\" >5</th>\n",
       "      <td id=\"T_a3901_row4_col0\" class=\"data row4 col0\" >334.462179</td>\n",
       "      <td id=\"T_a3901_row4_col1\" class=\"data row4 col1\" >764.000000</td>\n",
       "    </tr>\n",
       "    <tr>\n",
       "      <th id=\"T_a3901_level0_row5\" class=\"row_heading level0 row5\" >6</th>\n",
       "      <td id=\"T_a3901_row5_col0\" class=\"data row5 col0\" >389.262424</td>\n",
       "      <td id=\"T_a3901_row5_col1\" class=\"data row5 col1\" >1256.000000</td>\n",
       "    </tr>\n",
       "    <tr>\n",
       "      <th id=\"T_a3901_level0_row6\" class=\"row_heading level0 row6\" >7</th>\n",
       "      <td id=\"T_a3901_row6_col0\" class=\"data row6 col0\" >459.330311</td>\n",
       "      <td id=\"T_a3901_row6_col1\" class=\"data row6 col1\" >9500.000000</td>\n",
       "    </tr>\n",
       "    <tr>\n",
       "      <th id=\"T_a3901_level0_row7\" class=\"row_heading level0 row7\" >8</th>\n",
       "      <td id=\"T_a3901_row7_col0\" class=\"data row7 col0\" >514.475751</td>\n",
       "      <td id=\"T_a3901_row7_col1\" class=\"data row7 col1\" >6764.000000</td>\n",
       "    </tr>\n",
       "    <tr>\n",
       "      <th id=\"T_a3901_level0_row8\" class=\"row_heading level0 row8\" >9</th>\n",
       "      <td id=\"T_a3901_row8_col0\" class=\"data row8 col0\" >566.775154</td>\n",
       "      <td id=\"T_a3901_row8_col1\" class=\"data row8 col1\" >6240.000000</td>\n",
       "    </tr>\n",
       "  </tbody>\n",
       "</table>\n"
      ],
      "text/plain": [
       "<pandas.io.formats.style.Styler at 0x1b5dbfd05e0>"
      ]
     },
     "metadata": {},
     "output_type": "display_data"
    },
    {
     "name": "stdout",
     "output_type": "stream",
     "text": [
      "Elbow point: 6\n"
     ]
    },
    {
     "data": {
      "image/png": "[encoded data removed]",
      "text/plain": [
       "<Figure size 640x480 with 1 Axes>"
      ]
     },
     "metadata": {},
     "output_type": "display_data"
    }
   ],
   "source": [
    "# Load the document-term matrix\n",
    "doc_term_matrix = read_docword_matrix('docword.enron.txt')\n",
    "\n",
    "# Define range of k values\n",
    "k_values = range(1, 10)\n",
    "\n",
    "# Initialize lists to store results\n",
    "results = []\n",
    "\n",
    "# Perform mini-batch K-means clustering for each k\n",
    "for k in k_values:\n",
    "    start_time = time.time()  # Record start time\n",
    "    start_memory = memory_usage()  # Record start memory usage\n",
    "    wcss = mini_batch_kmeans(doc_term_matrix, k, batch_size=1000, max_iter=100, tol=1e-2)\n",
    "    end_time = time.time()  # Record end time\n",
    "    end_memory = memory_usage()  # Record end memory usage\n",
    "    \n",
    "    execution_time = end_time - start_time\n",
    "    memory_usage_diff = abs(end_memory - start_memory)\n",
    "    \n",
    "    results.append((k, execution_time, memory_usage_diff, wcss[-1]))  # Store the results\n",
    "\n",
    "# Create a DataFrame from the results\n",
    "df = pd.DataFrame(results, columns=['K', 'Execution Time (s)', 'Memory Usage (KB)', 'WCSS'])\n",
    "\n",
    "# Set the 'K' column as the index\n",
    "df.set_index('K', inplace=True)\n",
    "\n",
    "# Select only the first two columns of the DataFrame\n",
    "df_subset = df.iloc[:, :2]\n",
    "\n",
    "df_styled = df_subset.style.set_properties(**{'text-align': 'center'})\n",
    "\n",
    "display(df_styled)\n",
    "\n",
    "# Find the elbow point\n",
    "diffs = np.diff(df['WCSS'])\n",
    "diffs_ratio = diffs[1:] / diffs[:-1]\n",
    "elbow_index = np.argmax(diffs_ratio) + 1\n",
    "elbow_point = df.index[elbow_index]\n",
    "\n",
    "# Display the results\n",
    "print(f\"Elbow point: {elbow_point}\")\n",
    "\n",
    "# Plot the WCSS plot\n",
    "plt.plot(df.index, df['WCSS'], marker='o')\n",
    "plt.title('Elbow Plot')\n",
    "plt.xlabel('Number of Clusters (k)')\n",
    "plt.ylabel('WCSS')\n",
    "plt.axvline(x=elbow_point, color='r', linestyle='--', label='Elbow Point')\n",
    "plt.legend()\n",
    "plt.show()"
   ]
  },
  {
   "cell_type": "code",
   "execution_count": 25,
   "metadata": {},
   "outputs": [
    {
     "name": "stdout",
     "output_type": "stream",
     "text": [
      "The optimal value of k is  6\n"
     ]
    }
   ],
   "source": [
    "print(\"The optimal value of k is \", elbow_point)"
   ]
  }
 ],
 "metadata": {
  "kernelspec": {
   "display_name": "Python 3",
   "language": "python",
   "name": "python3"
  },
  "language_info": {
   "codemirror_mode": {
    "name": "ipython",
    "version": 3
   },
   "file_extension": ".py",
   "mimetype": "text/x-python",
   "name": "python",
   "nbconvert_exporter": "python",
   "pygments_lexer": "ipython3",
   "version": "3.10.9"
  }
 },
 "nbformat": 4,
 "nbformat_minor": 2
}
